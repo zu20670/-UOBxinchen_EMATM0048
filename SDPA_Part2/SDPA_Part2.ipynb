{
 "cells": [
  {
   "cell_type": "markdown",
   "metadata": {},
   "source": [
    "# EMAMTM0048-Coursework Part2 : Algorithm Analysis\n",
    "\n",
    "## Algorithm implementation:\n"
   ]
  },
  {
   "cell_type": "code",
   "execution_count": 3,
   "metadata": {},
   "outputs": [],
   "source": [
    "def CountingSort(l1, l2):\n",
    "    \"\"\" The basic structure of the algorithm is to scan L1, \n",
    "    record the number of occurrences of elements in L2 in L1, \n",
    "    and then sort the remaining elements\"\"\"\n",
    "    # use a to store the final list\n",
    "    a = [None for i in range(len(l1))]\n",
    "    # use b to store how many elements of L2 there are in L1\n",
    "    b = [0 for i in range(len(l2))]\n",
    "    # copy l1 as l3 to store the elements in l1 instead of L2\n",
    "    l3 = l1.copy()\n",
    "    #Scan L1 and record the number of times each element of L2 appears in L1，And delete the element of L2 in L3\n",
    "    index = 0 \n",
    "    for i in range(len(l1)):\n",
    "        for j in range(len(l2)):\n",
    "            if l1[i] == l2[j]:\n",
    "                b[j] += 1\n",
    "                del l3[i - index] # Delete elements that appear before\n",
    "                index += 1\n",
    "    #Sort existing elements by L2 and store in a\n",
    "    c = 0 #c is a index for final list\n",
    "    for i in range(len(l2)):\n",
    "        for j in range(b[i]):\n",
    "            a[c] = l2[i]\n",
    "            c += 1\n",
    "    #Sort elements that do not exist in L2 and store in a\n",
    "    l3.sort(); #Sort these elements with built-in functions\n",
    "    for i in range(len(l3)):\n",
    "        a[c] = l3[i]\n",
    "        c += 1\n",
    "    # return the list\n",
    "    return a"
   ]
  },
  {
   "cell_type": "code",
   "execution_count": 7,
   "metadata": {},
   "outputs": [
    {
     "name": "stdout",
     "output_type": "stream",
     "text": [
      "[2, 2, 1, 1, 8, 8, 3, 5, 6, 7, 9]\n",
      "[2, 2, 6, 6, 4, 5, 7, 8]\n",
      "[2, 4, 5, 6]\n",
      "[2, 3, 1, 8]\n"
     ]
    }
   ],
   "source": [
    "l1 = [2, 1, 2, 5, 7, 1, 9, 3, 6, 8, 8]\n",
    "l2 = [2, 1, 8, 3]\n",
    "l3 = [2, 6, 7, 5, 2, 6, 8, 4]\n",
    "l4 = [2, 6, 4, 5]\n",
    "l5 = [2, 3, 1, 4, 5, 6, 7, 8]\n",
    "\n",
    "print(CountingSort(l1, l2))\n",
    "print(CountingSort(l3, l4))\n",
    "print(CountingSort(l4, l2))\n",
    "print(CountingSort(l2, l5))"
   ]
  },
  {
   "cell_type": "markdown",
   "metadata": {},
   "source": [
    "### What is the complexity of this sorting algorithm?\n",
    "The time complexity of my algorithm is O(n*m)（n and m are the lengths of L1 and L2），Because I copied these two lists at the beginning of the algorithm and I created an empty list to store the final list.Then we use two nested loops to scan L1 and record the number of times each element of L2 appears in L1，And delete the element of L2 in L3.\n",
    "Then using two for loops to store the correct order list, Sort these remaining elements with built-in functions\n",
    "\n",
    "### How is the complexity affected if L2 is much larger than L1? And what if they are of the same size?\n",
    "The bigger L2 is, the more time it takes me to scan L1,When L1 and L2 are the same length, the time complexity is o(n^2)"
   ]
  }
 ],
 "metadata": {
  "kernelspec": {
   "display_name": "Python 3",
   "language": "python",
   "name": "python3"
  },
  "language_info": {
   "codemirror_mode": {
    "name": "ipython",
    "version": 3
   },
   "file_extension": ".py",
   "mimetype": "text/x-python",
   "name": "python",
   "nbconvert_exporter": "python",
   "pygments_lexer": "ipython3",
   "version": "3.8.3"
  }
 },
 "nbformat": 4,
 "nbformat_minor": 4
}
